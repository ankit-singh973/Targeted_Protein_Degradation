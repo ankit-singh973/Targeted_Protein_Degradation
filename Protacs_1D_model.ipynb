{
  "nbformat": 4,
  "nbformat_minor": 0,
  "metadata": {
    "colab": {
      "provenance": [],
      "gpuType": "T4"
    },
    "kernelspec": {
      "name": "python3",
      "display_name": "Python 3"
    },
    "language_info": {
      "name": "python"
    },
    "accelerator": "GPU"
  },
  "cells": [
    {
      "cell_type": "markdown",
      "source": [
        "# **Reproducing DeepDTA**"
      ],
      "metadata": {
        "id": "_JURRLS9tIUt"
      }
    },
    {
      "cell_type": "code",
      "source": [
        "from google.colab import drive\n",
        "drive.mount('/content/drive')"
      ],
      "metadata": {
        "colab": {
          "base_uri": "https://localhost:8080/"
        },
        "id": "HsL5QlUaQiDx",
        "outputId": "b6fc0cf2-95ce-4117-b09d-33efe290afb2"
      },
      "execution_count": 1,
      "outputs": [
        {
          "output_type": "stream",
          "name": "stdout",
          "text": [
            "Mounted at /content/drive\n"
          ]
        }
      ]
    },
    {
      "cell_type": "code",
      "execution_count": 2,
      "metadata": {
        "id": "WTMKQY8RshL0"
      },
      "outputs": [],
      "source": [
        "import tensorflow as tf\n",
        "import numpy as np\n",
        "import csv\n",
        "import random\n",
        "import pandas as pd\n",
        "from tensorflow.keras.preprocessing.text import Tokenizer\n",
        "from tensorflow.keras.preprocessing.sequence import pad_sequences\n",
        "from tensorflow.keras.utils import to_categorical\n",
        "from tensorflow.keras import regularizers\n",
        "from tensorflow.keras import optimizers"
      ]
    },
    {
      "cell_type": "code",
      "source": [
        "np.random.seed(42)\n",
        "tf.random.set_seed(42)\n",
        "random.seed(42)"
      ],
      "metadata": {
        "id": "V1DhUlMrtyOq"
      },
      "execution_count": 3,
      "outputs": []
    },
    {
      "cell_type": "code",
      "source": [
        "# load data\n",
        "df = pd.read_csv(\"/content/drive/MyDrive/Project_Monday/finalized_dataset.csv\")\n",
        "df.head()"
      ],
      "metadata": {
        "colab": {
          "base_uri": "https://localhost:8080/",
          "height": 226
        },
        "id": "QFo_SmAau6ce",
        "outputId": "08552712-6aa5-48d3-ea5d-02a965bc89ff"
      },
      "execution_count": 4,
      "outputs": [
        {
          "output_type": "execute_result",
          "data": {
            "text/plain": [
              "                                     Smiles_nostereo  \\\n",
              "0  COc1cc(-c2cn(C)c(=O)c3cnccc23)cc(OC)c1CN1CCN(C...   \n",
              "1  COc1cc(-c2cn(C)c(=O)c3cnccc23)cc(OC)c1CN1CCN(C...   \n",
              "2  COc1cc(-c2cn(C)c(=O)c3cnccc23)cc(OC)c1CN1CCN(C...   \n",
              "3  CCN(CCCCCOCC(=O)NC(C(=O)N1CC(O)CC1C(=O)NC(C)c1...   \n",
              "4  CCN(CCCCCOCC(=O)NC(C(=O)N1CC(O)CC1C(=O)NC(C)c1...   \n",
              "\n",
              "                                             poi_seq  \\\n",
              "0  MGKKHKKHKAEWRSSYEDYADKPLEKPLKLVLKVGGSEVTELSGSG...   \n",
              "1  MGKKHKKHKAEWRSSYEDYADKPLEKPLKLVLKVGGSEVTELSGSG...   \n",
              "2  MGKKHKKHKSDKHLYEEYVEKPLKLVLKVGGNEVTELSTGSSGHDS...   \n",
              "3  MTMTLHTKASGMALLHQIQGNELEPLNRPQLKIPLERPLGEVYLDS...   \n",
              "4  MTMTLHTKASGMALLHQIQGNELEPLNRPQLKIPLERPLGEVYLDS...   \n",
              "\n",
              "                                       e3_ligase_seq  active  \n",
              "0  MPRRAENWDEAEVGAEEAGVEEYGPEEDGGEESGAEESGPEESGPE...       0  \n",
              "1  MPRRAENWDEAEVGAEEAGVEEYGPEEDGGEESGAEESGPEESGPE...       1  \n",
              "2  MPRRAENWDEAEVGAEEAGVEEYGPEEDGGEESGAEESGPEESGPE...       1  \n",
              "3  MPRRAENWDEAEVGAEEAGVEEYGPEEDGGEESGAEESGPEESGPE...       1  \n",
              "4  MPRRAENWDEAEVGAEEAGVEEYGPEEDGGEESGAEESGPEESGPE...       1  "
            ],
            "text/html": [
              "\n",
              "  <div id=\"df-94354a45-fdf1-4df3-b310-03bfd50fd5b1\" class=\"colab-df-container\">\n",
              "    <div>\n",
              "<style scoped>\n",
              "    .dataframe tbody tr th:only-of-type {\n",
              "        vertical-align: middle;\n",
              "    }\n",
              "\n",
              "    .dataframe tbody tr th {\n",
              "        vertical-align: top;\n",
              "    }\n",
              "\n",
              "    .dataframe thead th {\n",
              "        text-align: right;\n",
              "    }\n",
              "</style>\n",
              "<table border=\"1\" class=\"dataframe\">\n",
              "  <thead>\n",
              "    <tr style=\"text-align: right;\">\n",
              "      <th></th>\n",
              "      <th>Smiles_nostereo</th>\n",
              "      <th>poi_seq</th>\n",
              "      <th>e3_ligase_seq</th>\n",
              "      <th>active</th>\n",
              "    </tr>\n",
              "  </thead>\n",
              "  <tbody>\n",
              "    <tr>\n",
              "      <th>0</th>\n",
              "      <td>COc1cc(-c2cn(C)c(=O)c3cnccc23)cc(OC)c1CN1CCN(C...</td>\n",
              "      <td>MGKKHKKHKAEWRSSYEDYADKPLEKPLKLVLKVGGSEVTELSGSG...</td>\n",
              "      <td>MPRRAENWDEAEVGAEEAGVEEYGPEEDGGEESGAEESGPEESGPE...</td>\n",
              "      <td>0</td>\n",
              "    </tr>\n",
              "    <tr>\n",
              "      <th>1</th>\n",
              "      <td>COc1cc(-c2cn(C)c(=O)c3cnccc23)cc(OC)c1CN1CCN(C...</td>\n",
              "      <td>MGKKHKKHKAEWRSSYEDYADKPLEKPLKLVLKVGGSEVTELSGSG...</td>\n",
              "      <td>MPRRAENWDEAEVGAEEAGVEEYGPEEDGGEESGAEESGPEESGPE...</td>\n",
              "      <td>1</td>\n",
              "    </tr>\n",
              "    <tr>\n",
              "      <th>2</th>\n",
              "      <td>COc1cc(-c2cn(C)c(=O)c3cnccc23)cc(OC)c1CN1CCN(C...</td>\n",
              "      <td>MGKKHKKHKSDKHLYEEYVEKPLKLVLKVGGNEVTELSTGSSGHDS...</td>\n",
              "      <td>MPRRAENWDEAEVGAEEAGVEEYGPEEDGGEESGAEESGPEESGPE...</td>\n",
              "      <td>1</td>\n",
              "    </tr>\n",
              "    <tr>\n",
              "      <th>3</th>\n",
              "      <td>CCN(CCCCCOCC(=O)NC(C(=O)N1CC(O)CC1C(=O)NC(C)c1...</td>\n",
              "      <td>MTMTLHTKASGMALLHQIQGNELEPLNRPQLKIPLERPLGEVYLDS...</td>\n",
              "      <td>MPRRAENWDEAEVGAEEAGVEEYGPEEDGGEESGAEESGPEESGPE...</td>\n",
              "      <td>1</td>\n",
              "    </tr>\n",
              "    <tr>\n",
              "      <th>4</th>\n",
              "      <td>CCN(CCCCCOCC(=O)NC(C(=O)N1CC(O)CC1C(=O)NC(C)c1...</td>\n",
              "      <td>MTMTLHTKASGMALLHQIQGNELEPLNRPQLKIPLERPLGEVYLDS...</td>\n",
              "      <td>MPRRAENWDEAEVGAEEAGVEEYGPEEDGGEESGAEESGPEESGPE...</td>\n",
              "      <td>1</td>\n",
              "    </tr>\n",
              "  </tbody>\n",
              "</table>\n",
              "</div>\n",
              "    <div class=\"colab-df-buttons\">\n",
              "\n",
              "  <div class=\"colab-df-container\">\n",
              "    <button class=\"colab-df-convert\" onclick=\"convertToInteractive('df-94354a45-fdf1-4df3-b310-03bfd50fd5b1')\"\n",
              "            title=\"Convert this dataframe to an interactive table.\"\n",
              "            style=\"display:none;\">\n",
              "\n",
              "  <svg xmlns=\"http://www.w3.org/2000/svg\" height=\"24px\" viewBox=\"0 -960 960 960\">\n",
              "    <path d=\"M120-120v-720h720v720H120Zm60-500h600v-160H180v160Zm220 220h160v-160H400v160Zm0 220h160v-160H400v160ZM180-400h160v-160H180v160Zm440 0h160v-160H620v160ZM180-180h160v-160H180v160Zm440 0h160v-160H620v160Z\"/>\n",
              "  </svg>\n",
              "    </button>\n",
              "\n",
              "  <style>\n",
              "    .colab-df-container {\n",
              "      display:flex;\n",
              "      gap: 12px;\n",
              "    }\n",
              "\n",
              "    .colab-df-convert {\n",
              "      background-color: #E8F0FE;\n",
              "      border: none;\n",
              "      border-radius: 50%;\n",
              "      cursor: pointer;\n",
              "      display: none;\n",
              "      fill: #1967D2;\n",
              "      height: 32px;\n",
              "      padding: 0 0 0 0;\n",
              "      width: 32px;\n",
              "    }\n",
              "\n",
              "    .colab-df-convert:hover {\n",
              "      background-color: #E2EBFA;\n",
              "      box-shadow: 0px 1px 2px rgba(60, 64, 67, 0.3), 0px 1px 3px 1px rgba(60, 64, 67, 0.15);\n",
              "      fill: #174EA6;\n",
              "    }\n",
              "\n",
              "    .colab-df-buttons div {\n",
              "      margin-bottom: 4px;\n",
              "    }\n",
              "\n",
              "    [theme=dark] .colab-df-convert {\n",
              "      background-color: #3B4455;\n",
              "      fill: #D2E3FC;\n",
              "    }\n",
              "\n",
              "    [theme=dark] .colab-df-convert:hover {\n",
              "      background-color: #434B5C;\n",
              "      box-shadow: 0px 1px 3px 1px rgba(0, 0, 0, 0.15);\n",
              "      filter: drop-shadow(0px 1px 2px rgba(0, 0, 0, 0.3));\n",
              "      fill: #FFFFFF;\n",
              "    }\n",
              "  </style>\n",
              "\n",
              "    <script>\n",
              "      const buttonEl =\n",
              "        document.querySelector('#df-94354a45-fdf1-4df3-b310-03bfd50fd5b1 button.colab-df-convert');\n",
              "      buttonEl.style.display =\n",
              "        google.colab.kernel.accessAllowed ? 'block' : 'none';\n",
              "\n",
              "      async function convertToInteractive(key) {\n",
              "        const element = document.querySelector('#df-94354a45-fdf1-4df3-b310-03bfd50fd5b1');\n",
              "        const dataTable =\n",
              "          await google.colab.kernel.invokeFunction('convertToInteractive',\n",
              "                                                    [key], {});\n",
              "        if (!dataTable) return;\n",
              "\n",
              "        const docLinkHtml = 'Like what you see? Visit the ' +\n",
              "          '<a target=\"_blank\" href=https://colab.research.google.com/notebooks/data_table.ipynb>data table notebook</a>'\n",
              "          + ' to learn more about interactive tables.';\n",
              "        element.innerHTML = '';\n",
              "        dataTable['output_type'] = 'display_data';\n",
              "        await google.colab.output.renderOutput(dataTable, element);\n",
              "        const docLink = document.createElement('div');\n",
              "        docLink.innerHTML = docLinkHtml;\n",
              "        element.appendChild(docLink);\n",
              "      }\n",
              "    </script>\n",
              "  </div>\n",
              "\n",
              "\n",
              "<div id=\"df-91615e4e-adf0-46dd-811a-bb5f0502f3b7\">\n",
              "  <button class=\"colab-df-quickchart\" onclick=\"quickchart('df-91615e4e-adf0-46dd-811a-bb5f0502f3b7')\"\n",
              "            title=\"Suggest charts\"\n",
              "            style=\"display:none;\">\n",
              "\n",
              "<svg xmlns=\"http://www.w3.org/2000/svg\" height=\"24px\"viewBox=\"0 0 24 24\"\n",
              "     width=\"24px\">\n",
              "    <g>\n",
              "        <path d=\"M19 3H5c-1.1 0-2 .9-2 2v14c0 1.1.9 2 2 2h14c1.1 0 2-.9 2-2V5c0-1.1-.9-2-2-2zM9 17H7v-7h2v7zm4 0h-2V7h2v10zm4 0h-2v-4h2v4z\"/>\n",
              "    </g>\n",
              "</svg>\n",
              "  </button>\n",
              "\n",
              "<style>\n",
              "  .colab-df-quickchart {\n",
              "      --bg-color: #E8F0FE;\n",
              "      --fill-color: #1967D2;\n",
              "      --hover-bg-color: #E2EBFA;\n",
              "      --hover-fill-color: #174EA6;\n",
              "      --disabled-fill-color: #AAA;\n",
              "      --disabled-bg-color: #DDD;\n",
              "  }\n",
              "\n",
              "  [theme=dark] .colab-df-quickchart {\n",
              "      --bg-color: #3B4455;\n",
              "      --fill-color: #D2E3FC;\n",
              "      --hover-bg-color: #434B5C;\n",
              "      --hover-fill-color: #FFFFFF;\n",
              "      --disabled-bg-color: #3B4455;\n",
              "      --disabled-fill-color: #666;\n",
              "  }\n",
              "\n",
              "  .colab-df-quickchart {\n",
              "    background-color: var(--bg-color);\n",
              "    border: none;\n",
              "    border-radius: 50%;\n",
              "    cursor: pointer;\n",
              "    display: none;\n",
              "    fill: var(--fill-color);\n",
              "    height: 32px;\n",
              "    padding: 0;\n",
              "    width: 32px;\n",
              "  }\n",
              "\n",
              "  .colab-df-quickchart:hover {\n",
              "    background-color: var(--hover-bg-color);\n",
              "    box-shadow: 0 1px 2px rgba(60, 64, 67, 0.3), 0 1px 3px 1px rgba(60, 64, 67, 0.15);\n",
              "    fill: var(--button-hover-fill-color);\n",
              "  }\n",
              "\n",
              "  .colab-df-quickchart-complete:disabled,\n",
              "  .colab-df-quickchart-complete:disabled:hover {\n",
              "    background-color: var(--disabled-bg-color);\n",
              "    fill: var(--disabled-fill-color);\n",
              "    box-shadow: none;\n",
              "  }\n",
              "\n",
              "  .colab-df-spinner {\n",
              "    border: 2px solid var(--fill-color);\n",
              "    border-color: transparent;\n",
              "    border-bottom-color: var(--fill-color);\n",
              "    animation:\n",
              "      spin 1s steps(1) infinite;\n",
              "  }\n",
              "\n",
              "  @keyframes spin {\n",
              "    0% {\n",
              "      border-color: transparent;\n",
              "      border-bottom-color: var(--fill-color);\n",
              "      border-left-color: var(--fill-color);\n",
              "    }\n",
              "    20% {\n",
              "      border-color: transparent;\n",
              "      border-left-color: var(--fill-color);\n",
              "      border-top-color: var(--fill-color);\n",
              "    }\n",
              "    30% {\n",
              "      border-color: transparent;\n",
              "      border-left-color: var(--fill-color);\n",
              "      border-top-color: var(--fill-color);\n",
              "      border-right-color: var(--fill-color);\n",
              "    }\n",
              "    40% {\n",
              "      border-color: transparent;\n",
              "      border-right-color: var(--fill-color);\n",
              "      border-top-color: var(--fill-color);\n",
              "    }\n",
              "    60% {\n",
              "      border-color: transparent;\n",
              "      border-right-color: var(--fill-color);\n",
              "    }\n",
              "    80% {\n",
              "      border-color: transparent;\n",
              "      border-right-color: var(--fill-color);\n",
              "      border-bottom-color: var(--fill-color);\n",
              "    }\n",
              "    90% {\n",
              "      border-color: transparent;\n",
              "      border-bottom-color: var(--fill-color);\n",
              "    }\n",
              "  }\n",
              "</style>\n",
              "\n",
              "  <script>\n",
              "    async function quickchart(key) {\n",
              "      const quickchartButtonEl =\n",
              "        document.querySelector('#' + key + ' button');\n",
              "      quickchartButtonEl.disabled = true;  // To prevent multiple clicks.\n",
              "      quickchartButtonEl.classList.add('colab-df-spinner');\n",
              "      try {\n",
              "        const charts = await google.colab.kernel.invokeFunction(\n",
              "            'suggestCharts', [key], {});\n",
              "      } catch (error) {\n",
              "        console.error('Error during call to suggestCharts:', error);\n",
              "      }\n",
              "      quickchartButtonEl.classList.remove('colab-df-spinner');\n",
              "      quickchartButtonEl.classList.add('colab-df-quickchart-complete');\n",
              "    }\n",
              "    (() => {\n",
              "      let quickchartButtonEl =\n",
              "        document.querySelector('#df-91615e4e-adf0-46dd-811a-bb5f0502f3b7 button');\n",
              "      quickchartButtonEl.style.display =\n",
              "        google.colab.kernel.accessAllowed ? 'block' : 'none';\n",
              "    })();\n",
              "  </script>\n",
              "</div>\n",
              "    </div>\n",
              "  </div>\n"
            ],
            "application/vnd.google.colaboratory.intrinsic+json": {
              "type": "dataframe",
              "variable_name": "df",
              "summary": "{\n  \"name\": \"df\",\n  \"rows\": 822,\n  \"fields\": [\n    {\n      \"column\": \"Smiles_nostereo\",\n      \"properties\": {\n        \"dtype\": \"string\",\n        \"num_unique_values\": 519,\n        \"samples\": [\n          \"COc1cc(C(=O)NCCOCCOCCOCCC(=O)Nc2cccc3c2C(=O)N(C2CCC(=O)NC2=O)C3=O)ccc1Nc1ncc(C(F)(F)F)c(Oc2cccc3c2C(=O)CC3)n1\",\n          \"CC(=CC(=O)NC1CN(C(=O)CCCCCC#Cc2cccc3c2CN(C2CCC(=O)NC2=O)C3=O)CCC2CCC(C(=O)NC(CCC(N)=O)C(=O)NC(c3ccccc3)c3ccccc3)N2C1=O)c1ccc(C(F)(F)P(=O)(O)O)cc1\",\n          \"Cc1sc2c(c1C)C(c1ccc(Cl)cc1)=NC(CC(=O)NCCn1cc(COCCOc3cccc4c3C(=O)N(C3CCC(=O)NC3=O)C4=O)nn1)c1nnc(C)n1-2\"\n        ],\n        \"semantic_type\": \"\",\n        \"description\": \"\"\n      }\n    },\n    {\n      \"column\": \"poi_seq\",\n      \"properties\": {\n        \"dtype\": \"category\",\n        \"num_unique_values\": 72,\n        \"samples\": [\n          \"MSAESGPGTRLRNLPVMGDGLETSQMSTTQAQAQPQPANAASTNPPPPETSNPNKPKRQTNQLQYLLRVVLKTLWKHQFAWPFQQPVDAVKLNLPDYYKIIKTPMDMGTIKKRLENNYYWNAQECIQDFNTMFTNCYIYNKPGDDIVLMAEALEKLFLQKINELPTEETEIMIVQAKGRGRGRKETGTAKPGVSTVPNTTQASTPPQTQTPQPNPPPVQATPHPFPAVTPDLIVQTPVMTVVPPQPLQTPPPVPPQPQPPPAPAPQPVQSHPPIIAATPQPVKTKKGVKRKADTTTPTTIDPIHEPPSLPPEPKTTKLGQRRESSRPVKPPKKDVPDSQQHPAPEKSSKVSEQLKCCSGILKEMFAKKHAAYAWPFYKPVDVEALGLHDYCDIIKHPMDMSTIKSKLEAREYRDAQEFGADVRLMFSNCYKYNPPDHEVVAMARKLQDVFEMRFAKMPDEPEEPVVAVSSPAVPPPTKVVAPPSSSDSSSDSSSDSDSSTDDSEEERAQRLAELQEQLKAVHEQLAALSQPQQNKPKKKEKDKKEKKKEKHKRKEEVEENKKSKAKEPPPKKTKKNNSSNSNVSKKEPAPMKSKPPPTYESEEEDKCKPMSYEEKRQLSLDINKLPGEKLGRVVHIIQSREPSLKNSNPDEIEIDFETLKPSTLRELERYVTSCLRKKRKPQAEKVDVIAGSSKMKGFSSSESESSSESSSSDSEDSETEMAPKSKKKGHPGREQKKHHHHHHQQMQQAPAPVPQQPPPPPQQPPPPPPPQQQQQPPPPPPPPSMPQQAAPAMKSSPPPFIATQVPVLEPQLPGSVFDPIGHFTQPILHLPQPELPPHLPQPPEHSTPPHLNQHAVVSPPALHNALPQQPSRPSNRAAALPPKPARPPAVSPALTQTPLLPQPPMAQPPQVLLEDEEPPAPPLTSMQMQLYLQQLQKVQPPTPLLPSVKVQSQPPPPLPPPPHPSVQQQLQQQPPPPPPPQPQPPPQQQHQPPPRPVHLQPMQFSTHIQQPPPPQGQQPPHPPPGQQPPPPQPAKPQQVIQHHHSPRHHKSDPYSTGHLREAPSPLMIHSPQMSQFQSLTHQSPPQQNVQPKKQELRAASVVQPQPLVVVKEEKIHSPIIRSEPFSPSLRPEPPKHPESIKAPVHLPQRPEMKPVDVGRPVIRPPEQNAPPPGAPDKDKQKQEPKTPVAPKKDLKIKNMGSWASLVQKHPTTPSSTAKSSSDSFEQFRRAAREKEEREKALKAQAEHAEKEKERLRQERMRSREDEDALEQARRAHEEARRRQEQQQQQRQEQQQQQQQQAAAVAAAATPQAQSSQPQSMLDQQRELARKREQERRRREAMAATIDMNFQSDLLSIFEENLF\",\n          \"MSGRPRTTSFAESCKPVQQPSAFGSMKVSRDKDGSKVTTVVATPGQGPDRPQEVSYTDTKVIGNGSFGVVYQAKLCDSGELVAIKKVLQDKRFKNRELQIMRKLDHCNIVRLRYFFYSSGEKKDEVYLNLVLDYVPETVYRVARHYSRAKQTLPVIYVKLYMYQLFRSLAYIHSFGICHRDIKPQNLLLDPDTAVLKLCDFGSAKQLVRGEPNVSYICSRYYRAPELIFGATDYTSSIDVWSAGCVLAELLLGQPIFPGDSGVDQLVEIIKVLGTPTREQIREMNPNYTEFKFPQIKAHPWTKVFRPRTPPEAIALCSRLLEYTPTARLTPLEACAHSFFDELRDPNVKLPNGRDTPALFNFTTQELSSNPPLATILIPPHARIQAAASTPTNATAASDANTGDRGQTNNAASASASNST\",\n          \"MEKDGLCRADQQYECVAEIGEGAYGKVFKARDLKNGGRFVALKRVRVQTGEEGMPLSTIREVAVLRHLETFEHPNVVRLFDVCTVSRTDRETKLTLVFEHVDQDLTTYLDKVPEPGVPTETIKDMMFQLLRGLDFLHSHRVVHRDLKPQNILVTSSGQIKLADFGLARIYSFQMALTSVVVTLWYRAPEVLLQSSYATPVDLWSVGCIFAEMFRRKPLFRGSSDVDQLGKILDVIGLPGEEDWPRDVALPRQAFHSKSAQPIEKFVTDIDELGKDLLLKCLTFNPAKRISAYSALSHPYFQDLERCKENLDSHLPPSQNTSELNTA\"\n        ],\n        \"semantic_type\": \"\",\n        \"description\": \"\"\n      }\n    },\n    {\n      \"column\": \"e3_ligase_seq\",\n      \"properties\": {\n        \"dtype\": \"category\",\n        \"num_unique_values\": 6,\n        \"samples\": [\n          \"MPRRAENWDEAEVGAEEAGVEEYGPEEDGGEESGAEESGPEESGPEELGAEEEMEAGRPRPVLRSVNSREPSQVIFCNRSPRVVLPVWLNFDGEPQPYPTLPPGTGRRIHSYRGHLWLFRDAGTHDGLLVNQTELFVPSLNVDGQPIFANITLPVYTLKERCLQVVRSLVKPENYRRLDIVRSLYEDLEDHPNVQKDLERLTQERIAHQRMGD\",\n          \"MAGEGDQQDAAHNMGNHLPLLPAESEEEDEMEVEDQDSKEAKKPNIINFDTSLPTSHTYLGADMEEFHGRTLHDDDSCQVIPVLPQVMMILIPGQTLPLQLFHPQEVSMVRNLIQKDRTFAVLAYSNVQEREAQFGTTAEIYAYREEQDFGIEIVKVKAIGRQRFKVLELRTQSDGIQQAKVQILPECVLPSTMSAVQLESLNKCQIFPSKPVSREDQCSYKWWQKYQKRKFHCANLTSWPRWLYSLYDAETLMDRIKKQLREWDENLKDDSLPSNPIDFSYRVAACLPIDDVLRIQLLKIGSAIQRLRCELDIMNKCTSLCCKQCQETEITTKNEIFSLSLCGPMAAYVNPHGYVHETLTVYKACNLNLIGRPSTEHSWFPGYAWTVAQCKICASHIGWKFTATKKDMSPQKFWGLTRSALLPTIPDTEDEISPDKVILCL\",\n          \"MEGLAGYVYKAASEGKVLTLAALLLNRSESDIRYLLGYVSQQGGQRSTPLIIAARNGHAKVVRLLLEHYRVQTQQTGTVRFDGYVIDGATALWCAAGAGHFEVVKLLVSHGANVNHTTVTNSTPLRAACFDGRLDIVKYLVENNANISIANKYDNTCLMIAAYKGHTDVVRYLLEQRADPNAKAHCGATALHFAAEAGHIDIVKELIKWRAAIVVNGHGMTPLKVAAESCKADVVELLLSHADCDRRSRIEALELLGASFANDRENYDIIKTYHYLYLAMLERFQDGDNILEKEVLPPIHAYGNRTECRNPQELESIRQDRDALHMEGLIVRERILGADNIDVSHPIIYRGAVYADNMEFEQCIKLWLHALHLRQKGNRNTHKDLLRFAQVFSQMIHLNETVKAPDIECVLRCSVLEIEQSMNRVKNISDADVHNAMDNYECNLYTFLYLVCISTKTQCSEEDQCKINKQIYNLIHLDPRTREGFTLLHLAVNSNTPVDDFHTNDVCSFPNALVTKLLLDCGAEVNAVDNEGNSALHIIVQYNRPISDFLTLHSIIISLVEAGAHTDMTNKQNKTPLDKSTTGVSEILLKTQMKMSLKCLAARAVRANDINYQDQIPRTLEEFVGFH\"\n        ],\n        \"semantic_type\": \"\",\n        \"description\": \"\"\n      }\n    },\n    {\n      \"column\": \"active\",\n      \"properties\": {\n        \"dtype\": \"number\",\n        \"std\": 0,\n        \"min\": 0,\n        \"max\": 1,\n        \"num_unique_values\": 2,\n        \"samples\": [\n          1,\n          0\n        ],\n        \"semantic_type\": \"\",\n        \"description\": \"\"\n      }\n    }\n  ]\n}"
            }
          },
          "metadata": {},
          "execution_count": 4
        }
      ]
    },
    {
      "cell_type": "code",
      "source": [
        "df.columns"
      ],
      "metadata": {
        "colab": {
          "base_uri": "https://localhost:8080/"
        },
        "id": "Pkr4tQMBvhYS",
        "outputId": "a8de8e5d-ea8e-461c-c246-08cc5b5ab6da"
      },
      "execution_count": 5,
      "outputs": [
        {
          "output_type": "execute_result",
          "data": {
            "text/plain": [
              "Index(['Smiles_nostereo', 'poi_seq', 'e3_ligase_seq', 'active'], dtype='object')"
            ]
          },
          "metadata": {},
          "execution_count": 5
        }
      ]
    },
    {
      "cell_type": "code",
      "source": [
        "df.info()"
      ],
      "metadata": {
        "colab": {
          "base_uri": "https://localhost:8080/"
        },
        "id": "5q4w8WIyCXTq",
        "outputId": "2a6f60c0-46f3-4d2b-bfb8-64ddace25eb8"
      },
      "execution_count": 6,
      "outputs": [
        {
          "output_type": "stream",
          "name": "stdout",
          "text": [
            "<class 'pandas.core.frame.DataFrame'>\n",
            "RangeIndex: 822 entries, 0 to 821\n",
            "Data columns (total 4 columns):\n",
            " #   Column           Non-Null Count  Dtype \n",
            "---  ------           --------------  ----- \n",
            " 0   Smiles_nostereo  822 non-null    object\n",
            " 1   poi_seq          822 non-null    object\n",
            " 2   e3_ligase_seq    822 non-null    object\n",
            " 3   active           822 non-null    int64 \n",
            "dtypes: int64(1), object(3)\n",
            "memory usage: 25.8+ KB\n"
          ]
        }
      ]
    },
    {
      "cell_type": "code",
      "source": [
        "# df2 = df.drop(columns=['ligand_id', 'prot_id'], axis = 1)"
      ],
      "metadata": {
        "id": "2MijF9jRvx_U"
      },
      "execution_count": 7,
      "outputs": []
    },
    {
      "cell_type": "code",
      "source": [
        "# df2"
      ],
      "metadata": {
        "id": "YSztmU94wRTr"
      },
      "execution_count": 8,
      "outputs": []
    },
    {
      "cell_type": "code",
      "source": [
        "df.isna().sum()"
      ],
      "metadata": {
        "colab": {
          "base_uri": "https://localhost:8080/"
        },
        "id": "6vcgtxO9x1nq",
        "outputId": "42ed0e4f-6c27-4329-a995-6d59ff59030e"
      },
      "execution_count": 9,
      "outputs": [
        {
          "output_type": "execute_result",
          "data": {
            "text/plain": [
              "Smiles_nostereo    0\n",
              "poi_seq            0\n",
              "e3_ligase_seq      0\n",
              "active             0\n",
              "dtype: int64"
            ]
          },
          "metadata": {},
          "execution_count": 9
        }
      ]
    },
    {
      "cell_type": "code",
      "source": [
        "# df2.dropna(subset = ['affinity_score'], axis = 0, inplace = True)"
      ],
      "metadata": {
        "id": "NVv6ChAiyXBI"
      },
      "execution_count": 10,
      "outputs": []
    },
    {
      "cell_type": "code",
      "source": [
        "type(df)"
      ],
      "metadata": {
        "colab": {
          "base_uri": "https://localhost:8080/",
          "height": 204
        },
        "id": "1YzfguBty0IT",
        "outputId": "c5d8bf1e-726c-4ecb-d584-94baafa654a1"
      },
      "execution_count": 11,
      "outputs": [
        {
          "output_type": "execute_result",
          "data": {
            "text/plain": [
              "pandas.core.frame.DataFrame"
            ],
            "text/html": [
              "<div style=\"max-width:800px; border: 1px solid var(--colab-border-color);\"><style>\n",
              "      pre.function-repr-contents {\n",
              "        overflow-x: auto;\n",
              "        padding: 8px 12px;\n",
              "        max-height: 500px;\n",
              "      }\n",
              "\n",
              "      pre.function-repr-contents.function-repr-contents-collapsed {\n",
              "        cursor: pointer;\n",
              "        max-height: 100px;\n",
              "      }\n",
              "    </style>\n",
              "    <pre style=\"white-space: initial; background:\n",
              "         var(--colab-secondary-surface-color); padding: 8px 12px;\n",
              "         border-bottom: 1px solid var(--colab-border-color);\"><b>pandas.core.frame.DataFrame</b><br/>def __init__(data=None, index: Axes | None=None, columns: Axes | None=None, dtype: Dtype | None=None, copy: bool | None=None) -&gt; None</pre><pre class=\"function-repr-contents function-repr-contents-collapsed\" style=\"\"><a class=\"filepath\" style=\"display:none\" href=\"#\">/usr/local/lib/python3.10/dist-packages/pandas/core/frame.py</a>Two-dimensional, size-mutable, potentially heterogeneous tabular data.\n",
              "\n",
              "Data structure also contains labeled axes (rows and columns).\n",
              "Arithmetic operations align on both row and column labels. Can be\n",
              "thought of as a dict-like container for Series objects. The primary\n",
              "pandas data structure.\n",
              "\n",
              "Parameters\n",
              "----------\n",
              "data : ndarray (structured or homogeneous), Iterable, dict, or DataFrame\n",
              "    Dict can contain Series, arrays, constants, dataclass or list-like objects. If\n",
              "    data is a dict, column order follows insertion-order. If a dict contains Series\n",
              "    which have an index defined, it is aligned by its index.\n",
              "\n",
              "    .. versionchanged:: 0.25.0\n",
              "       If data is a list of dicts, column order follows insertion-order.\n",
              "\n",
              "index : Index or array-like\n",
              "    Index to use for resulting frame. Will default to RangeIndex if\n",
              "    no indexing information part of input data and no index provided.\n",
              "columns : Index or array-like\n",
              "    Column labels to use for resulting frame when data does not have them,\n",
              "    defaulting to RangeIndex(0, 1, 2, ..., n). If data contains column labels,\n",
              "    will perform column selection instead.\n",
              "dtype : dtype, default None\n",
              "    Data type to force. Only a single dtype is allowed. If None, infer.\n",
              "copy : bool or None, default None\n",
              "    Copy data from inputs.\n",
              "    For dict data, the default of None behaves like ``copy=True``.  For DataFrame\n",
              "    or 2d ndarray input, the default of None behaves like ``copy=False``.\n",
              "    If data is a dict containing one or more Series (possibly of different dtypes),\n",
              "    ``copy=False`` will ensure that these inputs are not copied.\n",
              "\n",
              "    .. versionchanged:: 1.3.0\n",
              "\n",
              "See Also\n",
              "--------\n",
              "DataFrame.from_records : Constructor from tuples, also record arrays.\n",
              "DataFrame.from_dict : From dicts of Series, arrays, or dicts.\n",
              "read_csv : Read a comma-separated values (csv) file into DataFrame.\n",
              "read_table : Read general delimited file into DataFrame.\n",
              "read_clipboard : Read text from clipboard into DataFrame.\n",
              "\n",
              "Notes\n",
              "-----\n",
              "Please reference the :ref:`User Guide &lt;basics.dataframe&gt;` for more information.\n",
              "\n",
              "Examples\n",
              "--------\n",
              "Constructing DataFrame from a dictionary.\n",
              "\n",
              "&gt;&gt;&gt; d = {&#x27;col1&#x27;: [1, 2], &#x27;col2&#x27;: [3, 4]}\n",
              "&gt;&gt;&gt; df = pd.DataFrame(data=d)\n",
              "&gt;&gt;&gt; df\n",
              "   col1  col2\n",
              "0     1     3\n",
              "1     2     4\n",
              "\n",
              "Notice that the inferred dtype is int64.\n",
              "\n",
              "&gt;&gt;&gt; df.dtypes\n",
              "col1    int64\n",
              "col2    int64\n",
              "dtype: object\n",
              "\n",
              "To enforce a single dtype:\n",
              "\n",
              "&gt;&gt;&gt; df = pd.DataFrame(data=d, dtype=np.int8)\n",
              "&gt;&gt;&gt; df.dtypes\n",
              "col1    int8\n",
              "col2    int8\n",
              "dtype: object\n",
              "\n",
              "Constructing DataFrame from a dictionary including Series:\n",
              "\n",
              "&gt;&gt;&gt; d = {&#x27;col1&#x27;: [0, 1, 2, 3], &#x27;col2&#x27;: pd.Series([2, 3], index=[2, 3])}\n",
              "&gt;&gt;&gt; pd.DataFrame(data=d, index=[0, 1, 2, 3])\n",
              "   col1  col2\n",
              "0     0   NaN\n",
              "1     1   NaN\n",
              "2     2   2.0\n",
              "3     3   3.0\n",
              "\n",
              "Constructing DataFrame from numpy ndarray:\n",
              "\n",
              "&gt;&gt;&gt; df2 = pd.DataFrame(np.array([[1, 2, 3], [4, 5, 6], [7, 8, 9]]),\n",
              "...                    columns=[&#x27;a&#x27;, &#x27;b&#x27;, &#x27;c&#x27;])\n",
              "&gt;&gt;&gt; df2\n",
              "   a  b  c\n",
              "0  1  2  3\n",
              "1  4  5  6\n",
              "2  7  8  9\n",
              "\n",
              "Constructing DataFrame from a numpy ndarray that has labeled columns:\n",
              "\n",
              "&gt;&gt;&gt; data = np.array([(1, 2, 3), (4, 5, 6), (7, 8, 9)],\n",
              "...                 dtype=[(&quot;a&quot;, &quot;i4&quot;), (&quot;b&quot;, &quot;i4&quot;), (&quot;c&quot;, &quot;i4&quot;)])\n",
              "&gt;&gt;&gt; df3 = pd.DataFrame(data, columns=[&#x27;c&#x27;, &#x27;a&#x27;])\n",
              "...\n",
              "&gt;&gt;&gt; df3\n",
              "   c  a\n",
              "0  3  1\n",
              "1  6  4\n",
              "2  9  7\n",
              "\n",
              "Constructing DataFrame from dataclass:\n",
              "\n",
              "&gt;&gt;&gt; from dataclasses import make_dataclass\n",
              "&gt;&gt;&gt; Point = make_dataclass(&quot;Point&quot;, [(&quot;x&quot;, int), (&quot;y&quot;, int)])\n",
              "&gt;&gt;&gt; pd.DataFrame([Point(0, 0), Point(0, 3), Point(2, 3)])\n",
              "   x  y\n",
              "0  0  0\n",
              "1  0  3\n",
              "2  2  3</pre>\n",
              "      <script>\n",
              "      if (google.colab.kernel.accessAllowed && google.colab.files && google.colab.files.view) {\n",
              "        for (const element of document.querySelectorAll('.filepath')) {\n",
              "          element.style.display = 'block'\n",
              "          element.onclick = (event) => {\n",
              "            event.preventDefault();\n",
              "            event.stopPropagation();\n",
              "            google.colab.files.view(element.textContent, 475);\n",
              "          };\n",
              "        }\n",
              "      }\n",
              "      for (const element of document.querySelectorAll('.function-repr-contents')) {\n",
              "        element.onclick = (event) => {\n",
              "          event.preventDefault();\n",
              "          event.stopPropagation();\n",
              "          element.classList.toggle('function-repr-contents-collapsed');\n",
              "        };\n",
              "      }\n",
              "      </script>\n",
              "      </div>"
            ]
          },
          "metadata": {},
          "execution_count": 11
        }
      ]
    },
    {
      "cell_type": "code",
      "source": [
        "# Extracting columns into separate lists\n",
        "smiles_list = df['Smiles_nostereo'].tolist()\n",
        "poi_seq_list = df['poi_seq'].tolist()\n",
        "e3_lig_seq_list = df['e3_ligase_seq'].tolist()\n",
        "label = df['active'].tolist()"
      ],
      "metadata": {
        "id": "_whXlTmw3BdF"
      },
      "execution_count": 12,
      "outputs": []
    },
    {
      "cell_type": "code",
      "source": [
        "# Initialize variable to store the length of the longest SMILES sequence\n",
        "max_length = 0\n",
        "\n",
        "# Iterate over each SMILES sequence in the list\n",
        "for smiles in smiles_list:\n",
        "    # Calculate the length of the current SMILES sequence\n",
        "    current_length = len(smiles)\n",
        "\n",
        "    # Update max_length if the current length is greater\n",
        "    if current_length > max_length:\n",
        "        max_length = current_length\n",
        "\n",
        "# Print the length of the longest SMILES sequence\n",
        "print(\"Length of the longest SMILES sequence:\", max_length)"
      ],
      "metadata": {
        "colab": {
          "base_uri": "https://localhost:8080/"
        },
        "id": "bCSMXVWO3v25",
        "outputId": "8a19d825-b159-4274-e0f3-05fbf7f12b80"
      },
      "execution_count": 13,
      "outputs": [
        {
          "output_type": "stream",
          "name": "stdout",
          "text": [
            "Length of the longest SMILES sequence: 203\n"
          ]
        }
      ]
    },
    {
      "cell_type": "code",
      "source": [
        "# Initialize variable to store the length of the longest SMILES sequence\n",
        "max_length = 0\n",
        "\n",
        "# Iterate over each SMILES sequence in the list\n",
        "for seq in poi_seq_list:\n",
        "    # Calculate the length of the current SMILES sequence\n",
        "    current_length = len(seq)\n",
        "\n",
        "    # Update max_length if the current length is greater\n",
        "    if current_length > max_length:\n",
        "        max_length = current_length\n",
        "\n",
        "# Print the length of the longest SMILES sequence\n",
        "print(\"Length of the longest POI sequence:\", max_length)"
      ],
      "metadata": {
        "colab": {
          "base_uri": "https://localhost:8080/"
        },
        "id": "UzqAmhun4h4A",
        "outputId": "61fb3e91-4182-4e48-f587-89fdb05fc91f"
      },
      "execution_count": 14,
      "outputs": [
        {
          "output_type": "stream",
          "name": "stdout",
          "text": [
            "Length of the longest POI sequence: 1647\n"
          ]
        }
      ]
    },
    {
      "cell_type": "code",
      "source": [
        "# Initialize variable to store the length of the longest SMILES sequence\n",
        "max_length = 0\n",
        "\n",
        "# Iterate over each SMILES sequence in the list\n",
        "for e3_seq in e3_lig_seq_list:\n",
        "    # Calculate the length of the current SMILES sequence\n",
        "    current_length = len(e3_seq)\n",
        "\n",
        "    # Update max_length if the current length is greater\n",
        "    if current_length > max_length:\n",
        "        max_length = current_length\n",
        "\n",
        "# Print the length of the longest SMILES sequence\n",
        "print(\"Length of the longest E3 ligase sequence:\", max_length)"
      ],
      "metadata": {
        "colab": {
          "base_uri": "https://localhost:8080/"
        },
        "id": "V-U9OoIf4h0p",
        "outputId": "79dd5e7d-0b68-4a8b-9414-6614b062bc91"
      },
      "execution_count": 15,
      "outputs": [
        {
          "output_type": "stream",
          "name": "stdout",
          "text": [
            "Length of the longest E3 ligase sequence: 1538\n"
          ]
        }
      ]
    },
    {
      "cell_type": "code",
      "source": [
        "smiles_list[0]"
      ],
      "metadata": {
        "colab": {
          "base_uri": "https://localhost:8080/",
          "height": 36
        },
        "id": "5wqzrpO2_ReZ",
        "outputId": "95460a38-8de2-4b87-94f5-f3e29395ff26"
      },
      "execution_count": 16,
      "outputs": [
        {
          "output_type": "execute_result",
          "data": {
            "text/plain": [
              "'COc1cc(-c2cn(C)c(=O)c3cnccc23)cc(OC)c1CN1CCN(CCOCCOCCOc2cc(-c3scnc3C)ccc2CNC(=O)C2CC(O)CN2C(=O)C(NC(=O)C2(F)CC2)C(C)(C)C)CC1'"
            ],
            "application/vnd.google.colaboratory.intrinsic+json": {
              "type": "string"
            }
          },
          "metadata": {},
          "execution_count": 16
        }
      ]
    },
    {
      "cell_type": "code",
      "source": [
        "len(smiles_list[0])"
      ],
      "metadata": {
        "colab": {
          "base_uri": "https://localhost:8080/"
        },
        "id": "lhgadq9O22Dj",
        "outputId": "4311bdc6-845b-4fab-bc9d-c72bea0d958e"
      },
      "execution_count": 17,
      "outputs": [
        {
          "output_type": "execute_result",
          "data": {
            "text/plain": [
              "124"
            ]
          },
          "metadata": {},
          "execution_count": 17
        }
      ]
    },
    {
      "cell_type": "code",
      "source": [
        "poi_seq_list[0]"
      ],
      "metadata": {
        "colab": {
          "base_uri": "https://localhost:8080/",
          "height": 91
        },
        "id": "UjF51j78_Y2s",
        "outputId": "99e91007-faff-41c1-ecd2-612377dc430c"
      },
      "execution_count": 18,
      "outputs": [
        {
          "output_type": "execute_result",
          "data": {
            "text/plain": [
              "'MGKKHKKHKAEWRSSYEDYADKPLEKPLKLVLKVGGSEVTELSGSGHDSSYYDDRSDHERERHKEKKKKKKKKSEKEKHLDDEERRKRKEEKKRKREREHCDTEGEADDFDPGKKVEVEPPPDRPVRACRTQPAENESTPIQQLLEHFLRQLQRKDPHGFFAFPVTDAIAPGYSMIIKHPMDFGTMKDKIVANEYKSVTEFKADFKLMCDNAMTYNRPDTVYYKLAKKILHAGFKMMSKQAALLGNEDTAVEEPVPEVVPVQVETAKKSKKPSREVISCMFEPEGNACSLTDSTAEEHVLALVEHAADEARDRINRFLPGGKMGYLKRNGDGSLLYSVVNTAEPDADEEETHPVDLSSLSSKLLPGFTTLGFKDERRNKVTFLSSATTALSMQNNSVFGDLKSDEMELLYSAYGDETGVQCALSLQEFVKDAGSYSKKVVDDLLDQITGGDHSRTLFQLKQRRNVPMKPPDEAKVGDTLGDSSSSVLEFMSMKSYPDVSVDISMLSSLGKVKKELDPDDSHLNLDETTKLLQDLHEAQAERGGSRPSSNLSSLSNASERDQHHLGSPSRLSVGEQPDVTHDPYEFLQSPEPAASAKT'"
            ],
            "application/vnd.google.colaboratory.intrinsic+json": {
              "type": "string"
            }
          },
          "metadata": {},
          "execution_count": 18
        }
      ]
    },
    {
      "cell_type": "code",
      "source": [
        "len(poi_seq_list[0])"
      ],
      "metadata": {
        "colab": {
          "base_uri": "https://localhost:8080/"
        },
        "id": "BNK-j1Jk274P",
        "outputId": "747a2697-b245-48b6-c225-327b226b3b8b"
      },
      "execution_count": 19,
      "outputs": [
        {
          "output_type": "execute_result",
          "data": {
            "text/plain": [
              "597"
            ]
          },
          "metadata": {},
          "execution_count": 19
        }
      ]
    },
    {
      "cell_type": "code",
      "source": [
        "e3_lig_seq_list[0]"
      ],
      "metadata": {
        "colab": {
          "base_uri": "https://localhost:8080/",
          "height": 54
        },
        "id": "zKr2KAVD_RPl",
        "outputId": "f238db0a-38ce-471f-bfbc-a057c433e1e0"
      },
      "execution_count": 20,
      "outputs": [
        {
          "output_type": "execute_result",
          "data": {
            "text/plain": [
              "'MPRRAENWDEAEVGAEEAGVEEYGPEEDGGEESGAEESGPEESGPEELGAEEEMEAGRPRPVLRSVNSREPSQVIFCNRSPRVVLPVWLNFDGEPQPYPTLPPGTGRRIHSYRGHLWLFRDAGTHDGLLVNQTELFVPSLNVDGQPIFANITLPVYTLKERCLQVVRSLVKPENYRRLDIVRSLYEDLEDHPNVQKDLERLTQERIAHQRMGD'"
            ],
            "application/vnd.google.colaboratory.intrinsic+json": {
              "type": "string"
            }
          },
          "metadata": {},
          "execution_count": 20
        }
      ]
    },
    {
      "cell_type": "code",
      "source": [
        "len(e3_lig_seq_list[0])"
      ],
      "metadata": {
        "colab": {
          "base_uri": "https://localhost:8080/"
        },
        "id": "J4ByS14R3Coe",
        "outputId": "8fb55c29-c6b2-461b-e15c-234962864ae0"
      },
      "execution_count": 21,
      "outputs": [
        {
          "output_type": "execute_result",
          "data": {
            "text/plain": [
              "213"
            ]
          },
          "metadata": {},
          "execution_count": 21
        }
      ]
    },
    {
      "cell_type": "markdown",
      "source": [
        "### **Train_Test_split**"
      ],
      "metadata": {
        "id": "Tdiv5vB5EwKv"
      }
    },
    {
      "cell_type": "code",
      "source": [
        "split = int(0.8 * len(smiles_list))\n",
        "\n",
        "train_smiles = smiles_list[:split]\n",
        "test_smiles = smiles_list[split:]\n",
        "\n",
        "train_poi_seq = poi_seq_list[:split]\n",
        "test_poi_seq = poi_seq_list[split:]\n",
        "\n",
        "train_e3_lig = e3_lig_seq_list[:split]\n",
        "test_e3_lig = e3_lig_seq_list[split:]\n",
        "\n",
        "train_labels = label[:split]\n",
        "test_labels = label[split:]"
      ],
      "metadata": {
        "id": "6WccnG8-Cv4A"
      },
      "execution_count": 22,
      "outputs": []
    },
    {
      "cell_type": "code",
      "source": [
        "len(train_smiles), len(train_poi_seq), len(train_e3_lig), len(train_labels)"
      ],
      "metadata": {
        "colab": {
          "base_uri": "https://localhost:8080/"
        },
        "id": "Dxwebb-0FGFM",
        "outputId": "a8034fc0-3346-4a5e-de66-62a39b7d9abf"
      },
      "execution_count": 23,
      "outputs": [
        {
          "output_type": "execute_result",
          "data": {
            "text/plain": [
              "(657, 657, 657, 657)"
            ]
          },
          "metadata": {},
          "execution_count": 23
        }
      ]
    },
    {
      "cell_type": "markdown",
      "source": [
        "### Our input data is in form of strings so we need to encode them"
      ],
      "metadata": {
        "id": "q-QIHXYdBmnz"
      }
    },
    {
      "cell_type": "code",
      "source": [
        "# Tokenize smiles\n",
        "\n",
        "# train (this set is performed on only training data, never on test data)\n",
        "tokenizer_smiles = Tokenizer(char_level = True)\n",
        "tokenizer_smiles.fit_on_texts(train_smiles)\n",
        "\n",
        "# word index is just a dictionary that shows us what index corresponds to what character\n",
        "word_index_smiles = tokenizer_smiles.word_index\n",
        "vocab_size_smiles = len(word_index_smiles)\n",
        "\n",
        "#every drug in our dataset is converted into sequence of numbers\n",
        "train_sequences_smiles = tokenizer_smiles.texts_to_sequences(train_smiles)\n",
        "'''Every smile file has not the same length, but our neural network expects a\n",
        "fixed length input so to do that we use padding layers.\n",
        "`maxlen =85` means the maximum length of input sequence, it is 85 because authors of papaer have stated it. '''\n",
        "train_padded_smiles = pad_sequences(train_sequences_smiles, truncating = 'post', padding = 'post', maxlen = 203)\n",
        "\n",
        "\n",
        "#test\n",
        "test_sequences_smiles = tokenizer_smiles.texts_to_sequences(test_smiles)\n",
        "test_padded_smiles = pad_sequences(test_sequences_smiles, truncating = 'post', padding = 'post', maxlen = 203)"
      ],
      "metadata": {
        "id": "RuTqtFj0y_HU"
      },
      "execution_count": 24,
      "outputs": []
    },
    {
      "cell_type": "code",
      "source": [
        "# Tokenize POI sequence\n",
        "\n",
        "#train\n",
        "tokenizer_poi = Tokenizer(char_level = True)\n",
        "tokenizer_poi.fit_on_texts(train_poi_seq)\n",
        "\n",
        "word_index_poi = tokenizer_poi.word_index\n",
        "vocab_size_poi = len(word_index_poi)\n",
        "\n",
        "train_sequences_poi = tokenizer_poi.texts_to_sequences(train_poi_seq)\n",
        "train_padded_poi = pad_sequences(train_sequences_poi, truncating  = 'post', padding = 'post', maxlen = 1647)\n",
        "\n",
        "#test\n",
        "test_sequences_poi = tokenizer_poi.texts_to_sequences(test_poi_seq)\n",
        "test_padded_poi = pad_sequences(test_sequences_poi, truncating = 'post', padding = 'post', maxlen = 1647)\n"
      ],
      "metadata": {
        "id": "YNDr4NIbN3JO"
      },
      "execution_count": 25,
      "outputs": []
    },
    {
      "cell_type": "code",
      "source": [
        "# Tokenize E3 ligase sequence\n",
        "\n",
        "#train\n",
        "tokenizer_e3 = Tokenizer(char_level = True)\n",
        "tokenizer_e3.fit_on_texts(train_e3_lig)\n",
        "\n",
        "word_index_e3 = tokenizer_e3.word_index\n",
        "vocab_size_e3 = len(word_index_e3)\n",
        "\n",
        "train_sequences_e3 = tokenizer_e3.texts_to_sequences(train_e3_lig)\n",
        "train_padded_e3 = pad_sequences(train_sequences_e3, truncating  = 'post', padding = 'post', maxlen = 1538)\n",
        "\n",
        "#test\n",
        "test_sequences_e3 = tokenizer_poi.texts_to_sequences(test_e3_lig)\n",
        "test_padded_e3 = pad_sequences(test_sequences_e3, truncating = 'post', padding = 'post', maxlen = 1538)"
      ],
      "metadata": {
        "id": "Z0u8gto89wHr"
      },
      "execution_count": 26,
      "outputs": []
    },
    {
      "cell_type": "code",
      "source": [
        "print(vocab_size_smiles)\n",
        "print(vocab_size_poi)\n",
        "print(vocab_size_e3)"
      ],
      "metadata": {
        "colab": {
          "base_uri": "https://localhost:8080/"
        },
        "id": "8G3wNeN1P_v0",
        "outputId": "c3019746-dea1-43c3-bf9b-c65f80c5c6b8"
      },
      "execution_count": 59,
      "outputs": [
        {
          "output_type": "stream",
          "name": "stdout",
          "text": [
            "26\n",
            "22\n",
            "20\n"
          ]
        }
      ]
    },
    {
      "cell_type": "code",
      "source": [
        "# convert to numpy arrays and check dimensions\n",
        "train_smiles_array = np.array(train_padded_smiles)\n",
        "test_smiles_array = np.array(test_padded_smiles)\n",
        "\n",
        "train_poi_array = np.array(train_padded_poi)\n",
        "test_poi_array = np.array(test_padded_poi)\n",
        "\n",
        "train_e3_array = np.array(train_padded_e3)\n",
        "test_e3_array = np.array(test_padded_e3)\n",
        "\n",
        "train_labels_array = np.array(train_labels, dtype = 'int64')\n",
        "test_labels_array = np.array(test_labels, dtype = 'int64')\n",
        "\n",
        "print(f\"Train smiles array shape: {train_smiles_array.shape}\")\n",
        "print(f\"Test smile array shape: {test_smiles_array.shape}\")\n",
        "\n",
        "print(f\" Train POI array shape: {train_poi_array.shape}\")\n",
        "print(f\"Test POI array shape: {test_poi_array.shape}\")\n",
        "\n",
        "print(f\"Train e3 array shape: {train_e3_array.shape}\")\n",
        "print(f\"Test e3 array shape: {test_e3_array.shape}\")\n",
        "\n",
        "\n",
        "print(f\"Train labels array shape: {train_labels_array.shape}\")\n",
        "print(f\"Test labels array shape: {test_labels_array.shape}\")"
      ],
      "metadata": {
        "colab": {
          "base_uri": "https://localhost:8080/"
        },
        "id": "dSphNqSzQksx",
        "outputId": "f1305235-6055-413d-9f5d-81c7b876e5c3"
      },
      "execution_count": 28,
      "outputs": [
        {
          "output_type": "stream",
          "name": "stdout",
          "text": [
            "Train smiles array shape: (657, 203)\n",
            "Test smile array shape: (165, 203)\n",
            " Train POI array shape: (657, 1647)\n",
            "Test POI array shape: (165, 1647)\n",
            "Train e3 array shape: (657, 1538)\n",
            "Test e3 array shape: (165, 1538)\n",
            "Train labels array shape: (657,)\n",
            "Test labels array shape: (165,)\n"
          ]
        }
      ]
    },
    {
      "cell_type": "code",
      "source": [],
      "metadata": {
        "id": "EYsWGK_3hFnk"
      },
      "execution_count": null,
      "outputs": []
    },
    {
      "cell_type": "code",
      "source": [],
      "metadata": {
        "id": "G_abPMSehFku"
      },
      "execution_count": null,
      "outputs": []
    },
    {
      "cell_type": "code",
      "source": [
        "# aaddressing class imabalnce problem\n",
        "from sklearn.utils.class_weight import compute_class_weight\n",
        "\n",
        "class_weights = compute_class_weight('balanced', classes=np.unique(train_labels_array), y=train_labels_array)\n",
        "\n",
        "# Convert to dictionary\n",
        "class_weight_dict = dict(enumerate(class_weights))"
      ],
      "metadata": {
        "id": "zu_v9pY0anMt"
      },
      "execution_count": null,
      "outputs": []
    },
    {
      "cell_type": "markdown",
      "source": [
        "# **Deep DTA Model**"
      ],
      "metadata": {
        "id": "Ze-XdUqnXXyq"
      }
    },
    {
      "cell_type": "code",
      "source": [
        "from keras.layers import Input, Embedding, Concatenate, Conv1D, GlobalMaxPooling1D, Dense, Dropout, BatchNormalization\n",
        "from keras.models import Model\n",
        "from keras.optimizers import Adam\n",
        "from keras.callbacks import EarlyStopping\n",
        "\n",
        "# Define three input layers i.e one for smile sequence and one for protein\n",
        "smile_input = Input((203,))\n",
        "protein_input = Input((1647,))\n",
        "e3_input = Input((1538))\n",
        "\n",
        "#smiles encoder\n",
        "embed_smiles = Embedding(vocab_size_smiles+1, 128, input_length=203)(smile_input)\n",
        "conv_smiles = Conv1D(32, 4, activation='relu')(embed_smiles)\n",
        "conv_smiles = Conv1D(64, 6, activation='relu')(conv_smiles)\n",
        "conv_smiles = Conv1D(96, 8, activation='relu')(conv_smiles)\n",
        "max_smiles = GlobalMaxPooling1D()(conv_smiles)\n",
        "\n",
        "#proteins encoder\n",
        "embed_protein = Embedding(vocab_size_poi+1, 128, input_length=1647)(protein_input)\n",
        "conv_protein = Conv1D(32, 4, activation=\"relu\")(embed_protein)\n",
        "conv_protein = Conv1D(64, 8, activation=\"relu\")(conv_protein)\n",
        "conv_protein = Conv1D(96, 12, activation=\"relu\")(conv_protein)\n",
        "max_protein = GlobalMaxPooling1D()(conv_protein)\n",
        "\n",
        "# E3 encoder\n",
        "embed_e3 = Embedding(vocab_size_e3+1, 128, input_length=1538)(e3_input)\n",
        "conv_e3 = Conv1D(32, 4, activation=\"relu\")(embed_e3)\n",
        "conv_e3 = Conv1D(64, 8, activation=\"relu\")(conv_e3)\n",
        "conv_e3 = Conv1D(96, 12, activation=\"relu\")(conv_e3)\n",
        "max_e3 = GlobalMaxPooling1D()(conv_e3)\n",
        "\n",
        "\n",
        "# concatenate the two encoder outputs\n",
        "concat_layer = Concatenate()([max_smiles, max_protein, max_e3])\n",
        "\n",
        "# decoder\n",
        "output = Dense(2048, activation=\"relu\")(concat_layer)\n",
        "output = Dropout(0.5)(output)\n",
        "output = Dense(1024, activation=\"relu\")(output)  # Modified\n",
        "output = Dropout(0.5)(output)\n",
        "output = Dense(512, activation=\"relu\")(output)   # Modified\n",
        "output = Dropout(0.5)(output)\n",
        "output = Dense(1, activation=\"sigmoid\")(output)\n",
        "\n",
        "\n",
        "# define model with a list of 3 inputs\n",
        "model = Model(inputs=[smile_input, protein_input, e3_input], outputs=output)\n",
        "\n",
        "\n",
        "\n",
        "# Compile model\n",
        "optimizer = Adam(lr=0.001)\n",
        "model.compile(optimizer=optimizer, loss='binary_crossentropy', metrics=['accuracy'])\n",
        "\n",
        "# Define early stopping callback\n",
        "early_stopping = EarlyStopping(monitor='val_loss', patience=5, restore_best_weights=True)\n",
        "\n",
        "# Train model\n",
        "history = model.fit([train_smiles_array, train_poi_array, train_e3_array], train_labels_array,\n",
        "                    validation_data=([test_smiles_array, test_poi_array, test_e3_array], test_labels_array),\n",
        "                    epochs=100, batch_size=32, callbacks=[early_stopping], class_weight=class_weight_dict)\n",
        "\n",
        "# Evaluate model\n",
        "loss, mse = model.evaluate([test_smiles_array, test_poi_array, test_e3_array], test_labels_array)\n",
        "print(\"Test MSE:\", mse)\n"
      ],
      "metadata": {
        "id": "m0Zd7yiRWK8q",
        "colab": {
          "base_uri": "https://localhost:8080/"
        },
        "outputId": "fb24ac8e-46e3-4311-d4b9-d8933ca4ad4d"
      },
      "execution_count": 42,
      "outputs": [
        {
          "output_type": "stream",
          "name": "stderr",
          "text": [
            "WARNING:absl:`lr` is deprecated in Keras optimizer, please use `learning_rate` or use the legacy optimizer, e.g.,tf.keras.optimizers.legacy.Adam.\n"
          ]
        },
        {
          "output_type": "stream",
          "name": "stdout",
          "text": [
            "Epoch 1/100\n",
            "21/21 [==============================] - 6s 70ms/step - loss: 0.7027 - accuracy: 0.5479 - val_loss: 0.7003 - val_accuracy: 0.4182\n",
            "Epoch 2/100\n",
            "21/21 [==============================] - 1s 41ms/step - loss: 0.6821 - accuracy: 0.3409 - val_loss: 0.6947 - val_accuracy: 0.5091\n",
            "Epoch 3/100\n",
            "21/21 [==============================] - 1s 45ms/step - loss: 0.6702 - accuracy: 0.6834 - val_loss: 0.6981 - val_accuracy: 0.5879\n",
            "Epoch 4/100\n",
            "21/21 [==============================] - 1s 42ms/step - loss: 0.5508 - accuracy: 0.7306 - val_loss: 0.6939 - val_accuracy: 0.5939\n",
            "Epoch 5/100\n",
            "21/21 [==============================] - 1s 37ms/step - loss: 0.4989 - accuracy: 0.6925 - val_loss: 0.6573 - val_accuracy: 0.6061\n",
            "Epoch 6/100\n",
            "21/21 [==============================] - 1s 39ms/step - loss: 0.4878 - accuracy: 0.7017 - val_loss: 0.6904 - val_accuracy: 0.5697\n",
            "Epoch 7/100\n",
            "21/21 [==============================] - 1s 39ms/step - loss: 0.4992 - accuracy: 0.6743 - val_loss: 0.6970 - val_accuracy: 0.5636\n",
            "Epoch 8/100\n",
            "21/21 [==============================] - 1s 39ms/step - loss: 0.4387 - accuracy: 0.7078 - val_loss: 0.7537 - val_accuracy: 0.5394\n",
            "Epoch 9/100\n",
            "21/21 [==============================] - 1s 39ms/step - loss: 0.4413 - accuracy: 0.7154 - val_loss: 0.6696 - val_accuracy: 0.5636\n",
            "Epoch 10/100\n",
            "21/21 [==============================] - 1s 37ms/step - loss: 0.4425 - accuracy: 0.6986 - val_loss: 0.6761 - val_accuracy: 0.5697\n",
            "6/6 [==============================] - 0s 10ms/step - loss: 0.6573 - accuracy: 0.6061\n",
            "Test MSE: 0.6060606241226196\n"
          ]
        }
      ]
    },
    {
      "cell_type": "code",
      "source": [
        "def evaluate_model(model, X_test_smiles, X_test_protein, X_test_e3, y_test):\n",
        "    \"\"\"\n",
        "    Evaluate the accuracy of the model on the test set.\n",
        "\n",
        "    Args:\n",
        "    model: The trained model.\n",
        "    X_test_smiles: Test data for SMILES sequences.\n",
        "    X_test_protein: Test data for protein sequences.\n",
        "    y_test: True labels for the test set.\n",
        "\n",
        "    Returns:\n",
        "    accuracy: Accuracy of the model on the test set.\n",
        "    \"\"\"\n",
        "\n",
        "    # Predict labels for the test set\n",
        "    y_pred = model.predict([X_test_smiles, X_test_protein, X_test_e3])\n",
        "\n",
        "    # Evaluate accuracy\n",
        "    accuracy = model.evaluate([X_test_smiles, X_test_protein, X_test_e3], y_test, verbose=0)[1]\n",
        "\n",
        "    return accuracy\n"
      ],
      "metadata": {
        "id": "wEfXYYWsAPGD"
      },
      "execution_count": 43,
      "outputs": []
    },
    {
      "cell_type": "code",
      "source": [
        "evaluate_model(model, test_smiles_array, test_poi_array,  test_e3_array, test_labels_array)"
      ],
      "metadata": {
        "colab": {
          "base_uri": "https://localhost:8080/"
        },
        "id": "G07FxF_7Aeef",
        "outputId": "7eaf64e6-bc1c-4597-ce4c-49ca7dc9e188"
      },
      "execution_count": 44,
      "outputs": [
        {
          "output_type": "stream",
          "name": "stdout",
          "text": [
            "6/6 [==============================] - 0s 14ms/step\n"
          ]
        },
        {
          "output_type": "execute_result",
          "data": {
            "text/plain": [
              "0.6060606241226196"
            ]
          },
          "metadata": {},
          "execution_count": 44
        }
      ]
    },
    {
      "cell_type": "code",
      "source": [
        "import matplotlib.pyplot as plt\n",
        "\n",
        "#---------------------------------------------------------------\n",
        "# Retrieve a list of list results on training and test data\n",
        "#Sets for each training epoch\n",
        "#---------------------------------------------------------------\n",
        "mse = history.history['accuracy']\n",
        "val_mse = history.history['val_accuracy']\n",
        "loss = history.history['loss']\n",
        "val_loss = history.history['val_loss']\n",
        "\n",
        "epochs = range(len(mse)) #Get number of epochs\n",
        "\n",
        "#---------------------------------------------------------------\n",
        "# Plot training and validation mse per epoch\n",
        "#----------------------------------------------------------------\n",
        "plt.plot(epochs, mse, 'r')\n",
        "plt.plot(epochs, val_mse, 'b')\n",
        "plt.title(\"Training and validation MSE\")\n",
        "plt.xlabel(\"Epochs\")\n",
        "plt.ylabel(\"MSE\")\n",
        "plt.legend([\"Training MSE\", \"Validation MSE\"])\n",
        "\n",
        "plt.figure()"
      ],
      "metadata": {
        "colab": {
          "base_uri": "https://localhost:8080/",
          "height": 508
        },
        "id": "-am1NgC8BLXl",
        "outputId": "8c57b8b1-5dba-4bbc-957d-725885d83d65"
      },
      "execution_count": 45,
      "outputs": [
        {
          "output_type": "execute_result",
          "data": {
            "text/plain": [
              "<Figure size 640x480 with 0 Axes>"
            ]
          },
          "metadata": {},
          "execution_count": 45
        },
        {
          "output_type": "display_data",
          "data": {
            "text/plain": [
              "<Figure size 640x480 with 1 Axes>"
            ],
            "image/png": "[encoded data removed]"
          },
          "metadata": {}
        },
        {
          "output_type": "display_data",
          "data": {
            "text/plain": [
              "<Figure size 640x480 with 0 Axes>"
            ]
          },
          "metadata": {}
        }
      ]
    },
    {
      "cell_type": "code",
      "source": [
        "# visualize the model\n",
        "tf.keras.utils.plot_model(model)"
      ],
      "metadata": {
        "colab": {
          "base_uri": "https://localhost:8080/",
          "height": 1000
        },
        "id": "lbFlQFL5BedT",
        "outputId": "eb2c09aa-8f76-4725-bc1f-152bcb5d2ce6"
      },
      "execution_count": 46,
      "outputs": [
        {
          "output_type": "execute_result",
          "data": {
            "image/png": "[encoded data removed]",
            "text/plain": [
              "<IPython.core.display.Image object>"
            ]
          },
          "metadata": {},
          "execution_count": 46
        }
      ]
    },
    {
      "cell_type": "code",
      "source": [
        "model.summary()"
      ],
      "metadata": {
        "colab": {
          "base_uri": "https://localhost:8080/"
        },
        "id": "XLGjcNPKE4sB",
        "outputId": "8a68e628-6535-4f72-ae8d-8bd5fc91afbd"
      },
      "execution_count": 47,
      "outputs": [
        {
          "output_type": "stream",
          "name": "stdout",
          "text": [
            "Model: \"model_3\"\n",
            "__________________________________________________________________________________________________\n",
            " Layer (type)                Output Shape                 Param #   Connected to                  \n",
            "==================================================================================================\n",
            " input_10 (InputLayer)       [(None, 203)]                0         []                            \n",
            "                                                                                                  \n",
            " input_11 (InputLayer)       [(None, 1647)]               0         []                            \n",
            "                                                                                                  \n",
            " input_12 (InputLayer)       [(None, 1538)]               0         []                            \n",
            "                                                                                                  \n",
            " embedding_9 (Embedding)     (None, 203, 128)             3456      ['input_10[0][0]']            \n",
            "                                                                                                  \n",
            " embedding_10 (Embedding)    (None, 1647, 128)            2944      ['input_11[0][0]']            \n",
            "                                                                                                  \n",
            " embedding_11 (Embedding)    (None, 1538, 128)            2688      ['input_12[0][0]']            \n",
            "                                                                                                  \n",
            " conv1d_27 (Conv1D)          (None, 200, 32)              16416     ['embedding_9[0][0]']         \n",
            "                                                                                                  \n",
            " conv1d_30 (Conv1D)          (None, 1644, 32)             16416     ['embedding_10[0][0]']        \n",
            "                                                                                                  \n",
            " conv1d_33 (Conv1D)          (None, 1535, 32)             16416     ['embedding_11[0][0]']        \n",
            "                                                                                                  \n",
            " conv1d_28 (Conv1D)          (None, 195, 64)              12352     ['conv1d_27[0][0]']           \n",
            "                                                                                                  \n",
            " conv1d_31 (Conv1D)          (None, 1637, 64)             16448     ['conv1d_30[0][0]']           \n",
            "                                                                                                  \n",
            " conv1d_34 (Conv1D)          (None, 1528, 64)             16448     ['conv1d_33[0][0]']           \n",
            "                                                                                                  \n",
            " conv1d_29 (Conv1D)          (None, 188, 96)              49248     ['conv1d_28[0][0]']           \n",
            "                                                                                                  \n",
            " conv1d_32 (Conv1D)          (None, 1626, 96)             73824     ['conv1d_31[0][0]']           \n",
            "                                                                                                  \n",
            " conv1d_35 (Conv1D)          (None, 1517, 96)             73824     ['conv1d_34[0][0]']           \n",
            "                                                                                                  \n",
            " global_max_pooling1d_9 (Gl  (None, 96)                   0         ['conv1d_29[0][0]']           \n",
            " obalMaxPooling1D)                                                                                \n",
            "                                                                                                  \n",
            " global_max_pooling1d_10 (G  (None, 96)                   0         ['conv1d_32[0][0]']           \n",
            " lobalMaxPooling1D)                                                                               \n",
            "                                                                                                  \n",
            " global_max_pooling1d_11 (G  (None, 96)                   0         ['conv1d_35[0][0]']           \n",
            " lobalMaxPooling1D)                                                                               \n",
            "                                                                                                  \n",
            " concatenate_3 (Concatenate  (None, 288)                  0         ['global_max_pooling1d_9[0][0]\n",
            " )                                                                  ',                            \n",
            "                                                                     'global_max_pooling1d_10[0][0\n",
            "                                                                    ]',                           \n",
            "                                                                     'global_max_pooling1d_11[0][0\n",
            "                                                                    ]']                           \n",
            "                                                                                                  \n",
            " dense_12 (Dense)            (None, 2048)                 591872    ['concatenate_3[0][0]']       \n",
            "                                                                                                  \n",
            " dropout_9 (Dropout)         (None, 2048)                 0         ['dense_12[0][0]']            \n",
            "                                                                                                  \n",
            " dense_13 (Dense)            (None, 1024)                 2098176   ['dropout_9[0][0]']           \n",
            "                                                                                                  \n",
            " dropout_10 (Dropout)        (None, 1024)                 0         ['dense_13[0][0]']            \n",
            "                                                                                                  \n",
            " dense_14 (Dense)            (None, 512)                  524800    ['dropout_10[0][0]']          \n",
            "                                                                                                  \n",
            " dropout_11 (Dropout)        (None, 512)                  0         ['dense_14[0][0]']            \n",
            "                                                                                                  \n",
            " dense_15 (Dense)            (None, 1)                    513       ['dropout_11[0][0]']          \n",
            "                                                                                                  \n",
            "==================================================================================================\n",
            "Total params: 3515841 (13.41 MB)\n",
            "Trainable params: 3515841 (13.41 MB)\n",
            "Non-trainable params: 0 (0.00 Byte)\n",
            "__________________________________________________________________________________________________\n"
          ]
        }
      ]
    },
    {
      "cell_type": "code",
      "source": [
        "model.save(\"model1.h5\")"
      ],
      "metadata": {
        "id": "M7Y6oVvXJHnL",
        "colab": {
          "base_uri": "https://localhost:8080/"
        },
        "outputId": "ea46828a-268d-45ac-d427-9acabe998037"
      },
      "execution_count": 48,
      "outputs": [
        {
          "output_type": "stream",
          "name": "stderr",
          "text": [
            "/usr/local/lib/python3.10/dist-packages/keras/src/engine/training.py:3103: UserWarning: You are saving your model as an HDF5 file via `model.save()`. This file format is considered legacy. We recommend using instead the native Keras format, e.g. `model.save('my_model.keras')`.\n",
            "  saving_api.save_model(\n"
          ]
        }
      ]
    },
    {
      "cell_type": "code",
      "source": [
        "from keras.layers import Input, Embedding, Concatenate, Conv1D, GlobalMaxPooling1D, Dense, Dropout, BatchNormalization\n",
        "from keras.models import Model\n",
        "from keras.optimizers import Adam\n",
        "from keras.callbacks import EarlyStopping\n",
        "from keras_tuner.tuners import RandomSearch\n",
        "from keras_tuner.engine.hyperparameters import HyperParameters\n",
        "\n",
        "\n",
        "# Define model-building function\n",
        "def build_model(hp):\n",
        "    # Define input layers\n",
        "    smile_input = Input((203,))\n",
        "    protein_input = Input((1647,))\n",
        "    e3_input = Input((1538,))\n",
        "\n",
        "    # Smiles encoder\n",
        "    embed_smiles = Embedding(vocab_size_smiles + 1, 128, input_length=203)(smile_input)\n",
        "    conv_smiles = Conv1D(32, 4, activation='relu')(embed_smiles)\n",
        "    conv_smiles = Conv1D(64, 6, activation='relu')(conv_smiles)\n",
        "    conv_smiles = Conv1D(96, 8, activation='relu')(conv_smiles)\n",
        "    max_smiles = GlobalMaxPooling1D()(conv_smiles)\n",
        "\n",
        "    # Proteins encoder\n",
        "    embed_protein = Embedding(vocab_size_poi + 1, 128, input_length=1647)(protein_input)\n",
        "    conv_protein = Conv1D(32, 4, activation=\"relu\")(embed_protein)\n",
        "    conv_protein = Conv1D(64, 8, activation=\"relu\")(conv_protein)\n",
        "    conv_protein = Conv1D(96, 12, activation=\"relu\")(conv_protein)\n",
        "    max_protein = GlobalMaxPooling1D()(conv_protein)\n",
        "\n",
        "    # E3 encoder\n",
        "    embed_e3 = Embedding(vocab_size_e3 + 1, 128, input_length=1538)(e3_input)\n",
        "    conv_e3 = Conv1D(32, 4, activation=\"relu\")(embed_e3)\n",
        "    conv_e3 = Conv1D(64, 8, activation=\"relu\")(conv_e3)\n",
        "    conv_e3 = Conv1D(96, 12, activation=\"relu\")(conv_e3)\n",
        "    max_e3 = GlobalMaxPooling1D()(conv_e3)\n",
        "\n",
        "    # Concatenate the three encoder outputs\n",
        "    concat_layer = Concatenate()([max_smiles, max_protein, max_e3])\n",
        "\n",
        "    # Define hyperparameters to tune\n",
        "    hp_units = hp.Int('units', min_value=1, max_value=1024, step=256)\n",
        "    hp_dropout = hp.Float('dropout', min_value=0.1, max_value=0.5, step=0.1)\n",
        "\n",
        "    # Add dense layers with dropout\n",
        "    output = Dense(hp_units, activation=\"relu\")(concat_layer)\n",
        "    output = Dropout(hp_dropout)(output)\n",
        "    output = Dense(1, activation=\"sigmoid\")(output)\n",
        "\n",
        "    # Define model\n",
        "    model = Model(inputs=[smile_input, protein_input, e3_input], outputs=output)\n",
        "\n",
        "    # Compile model\n",
        "    model.compile(optimizer=Adam(learning_rate=0.001), loss='binary_crossentropy', metrics=['accuracy'])\n",
        "\n",
        "    return model\n",
        "\n",
        "# Define early stopping callback\n",
        "early_stopping = EarlyStopping(monitor='val_loss', patience=5, restore_best_weights=True)\n",
        "\n",
        "# Instantiate the tuner\n",
        "tuner = RandomSearch(\n",
        "    build_model,\n",
        "    objective='val_accuracy',\n",
        "    max_trials=10,\n",
        "    directory='my_dir',\n",
        "    project_name='my_project'\n",
        ")\n",
        "\n",
        "# Perform hyperparameter search\n",
        "tuner.search([train_smiles_array, train_poi_array, train_e3_array], train_labels_array,\n",
        "             validation_data=([test_smiles_array, test_poi_array, test_e3_array], test_labels_array),\n",
        "             epochs=100,\n",
        "             callbacks=[early_stopping])\n",
        "\n",
        "# Retrieve the best model\n",
        "best_model = tuner.get_best_models(num_models=1)[0]\n",
        "\n",
        "# Evaluate the best model\n",
        "loss, accuracy = best_model.evaluate([test_smiles_array, test_poi_array, test_e3_array], test_labels_array)\n",
        "print(\"Test Accuracy:\", accuracy)"
      ],
      "metadata": {
        "colab": {
          "base_uri": "https://localhost:8080/"
        },
        "id": "U0fmzdzTawkm",
        "outputId": "60ccbf0d-7413-4060-b160-4839acee8b0e"
      },
      "execution_count": 55,
      "outputs": [
        {
          "output_type": "stream",
          "name": "stdout",
          "text": [
            "Trial 10 Complete [00h 00m 23s]\n",
            "val_accuracy: 0.581818163394928\n",
            "\n",
            "Best val_accuracy So Far: 0.6909090876579285\n",
            "Total elapsed time: 00h 06m 30s\n",
            "6/6 [==============================] - 0s 15ms/step - loss: 0.6367 - accuracy: 0.6909\n",
            "Test Accuracy: 0.6909090876579285\n"
          ]
        }
      ]
    },
    {
      "cell_type": "code",
      "source": [
        "best_model.save(\"model2.h5\")"
      ],
      "metadata": {
        "colab": {
          "base_uri": "https://localhost:8080/"
        },
        "id": "-BjWjk2Nawa3",
        "outputId": "9885caaf-c0ed-494d-c76e-13bc4c754416"
      },
      "execution_count": 57,
      "outputs": [
        {
          "output_type": "stream",
          "name": "stderr",
          "text": [
            "/usr/local/lib/python3.10/dist-packages/keras/src/engine/training.py:3103: UserWarning: You are saving your model as an HDF5 file via `model.save()`. This file format is considered legacy. We recommend using instead the native Keras format, e.g. `model.save('my_model.keras')`.\n",
            "  saving_api.save_model(\n"
          ]
        }
      ]
    },
    {
      "cell_type": "code",
      "source": [
        "import matplotlib.pyplot as plt\n",
        "\n",
        "#---------------------------------------------------------------\n",
        "# Retrieve a list of list results on training and test data\n",
        "#Sets for each training epoch\n",
        "#---------------------------------------------------------------\n",
        "mse = history.history['accuracy']\n",
        "val_mse = history.history['val_accuracy']\n",
        "loss = history.history['loss']\n",
        "val_loss = history.history['val_loss']\n",
        "\n",
        "epochs = range(len(mse)) #Get number of epochs\n",
        "\n",
        "#---------------------------------------------------------------\n",
        "# Plot training and validation mse per epoch\n",
        "#----------------------------------------------------------------\n",
        "plt.plot(epochs, mse, 'r')\n",
        "plt.plot(epochs, val_mse, 'b')\n",
        "plt.title(\"Training and validation MSE\")\n",
        "plt.xlabel(\"Epochs\")\n",
        "plt.ylabel(\"MSE\")\n",
        "plt.legend([\"Training MSE\", \"Validation MSE\"])\n",
        "\n",
        "plt.figure()"
      ],
      "metadata": {
        "colab": {
          "base_uri": "https://localhost:8080/",
          "height": 508
        },
        "id": "1o9mryXHawXy",
        "outputId": "f0b2a871-d107-4d0c-8421-8de2c8cb6446"
      },
      "execution_count": 58,
      "outputs": [
        {
          "output_type": "execute_result",
          "data": {
            "text/plain": [
              "<Figure size 640x480 with 0 Axes>"
            ]
          },
          "metadata": {},
          "execution_count": 58
        },
        {
          "output_type": "display_data",
          "data": {
            "text/plain": [
              "<Figure size 640x480 with 1 Axes>"
            ],
            "image/png": "[encoded data removed]"
          },
          "metadata": {}
        },
        {
          "output_type": "display_data",
          "data": {
            "text/plain": [
              "<Figure size 640x480 with 0 Axes>"
            ]
          },
          "metadata": {}
        }
      ]
    },
    {
      "cell_type": "code",
      "source": [],
      "metadata": {
        "id": "5No3KixSawUb"
      },
      "execution_count": null,
      "outputs": []
    },
    {
      "cell_type": "code",
      "source": [],
      "metadata": {
        "id": "i8LbGXJHawRj"
      },
      "execution_count": null,
      "outputs": []
    },
    {
      "cell_type": "code",
      "source": [],
      "metadata": {
        "id": "g_PsHAsAawOb"
      },
      "execution_count": null,
      "outputs": []
    },
    {
      "cell_type": "code",
      "source": [],
      "metadata": {
        "id": "48rAG8VzawLj"
      },
      "execution_count": null,
      "outputs": []
    },
    {
      "cell_type": "markdown",
      "source": [
        "# **Make predications**"
      ],
      "metadata": {
        "id": "OzJ1AXX5KI8h"
      }
    },
    {
      "cell_type": "code",
      "source": [
        "# # Function to predict drug-protein pKd\n",
        "\n",
        "# def predict_pKd(drug, protein):\n",
        "#     drug_sequence = tokenizer_smiles.texts_to_sequences([drug])\n",
        "#     drug_padded = pad_sequences(drug_sequence, truncating= \"post\", padding = \"post\", maxlen = 85)\n",
        "#     protein_sequence = tokenizer_proteins.texts_to_sequences([protein])\n",
        "#     protein_padded = pad_sequences(protein_sequence, truncating = \"post\", padding = \"post\", maxlen = 1200)\n",
        "#     prediction = model.predict([tf.expand_dims(drug_padded, axis = -1), tf.expand_dims(protein_padded, axis = -1)])\n",
        "\n",
        "#     return(prediction.item())"
      ],
      "metadata": {
        "id": "RHCC-HmHJwB_"
      },
      "execution_count": null,
      "outputs": []
    },
    {
      "cell_type": "code",
      "source": [
        "# drug = test_smiles[1]\n",
        "# protein = test_proteins[1]\n",
        "# label = test_labels[1]\n",
        "\n",
        "# print(label)\n",
        "# predict_pKd(drug = drug, protein = protein)"
      ],
      "metadata": {
        "id": "WJSBjAAkPzkK",
        "colab": {
          "base_uri": "https://localhost:8080/"
        },
        "outputId": "47a4aca2-7374-4974-ff9a-82df2ab19086"
      },
      "execution_count": null,
      "outputs": [
        {
          "output_type": "stream",
          "name": "stdout",
          "text": [
            "5.0\n",
            "1/1 [==============================] - 0s 149ms/step\n"
          ]
        },
        {
          "output_type": "execute_result",
          "data": {
            "text/plain": [
              "5.2772321701049805"
            ]
          },
          "metadata": {},
          "execution_count": 66
        }
      ]
    },
    {
      "cell_type": "code",
      "source": [
        "# test_labels.index(max(test_labels))"
      ],
      "metadata": {
        "id": "nHDIiXK_Pd1e",
        "colab": {
          "base_uri": "https://localhost:8080/"
        },
        "outputId": "c84f24b4-2c0a-43f6-d680-f8ef62257810"
      },
      "execution_count": null,
      "outputs": [
        {
          "output_type": "execute_result",
          "data": {
            "text/plain": [
              "1232"
            ]
          },
          "metadata": {},
          "execution_count": 67
        }
      ]
    },
    {
      "cell_type": "code",
      "source": [
        "# # load a previously saved model\n",
        "# model = tf.keras.models.load_model(\"reproducing_deepDTA.h5\")"
      ],
      "metadata": {
        "id": "emMeFhM3RXbl"
      },
      "execution_count": null,
      "outputs": []
    }
  ]
}